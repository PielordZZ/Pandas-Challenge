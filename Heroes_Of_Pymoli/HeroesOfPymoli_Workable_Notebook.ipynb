{
 "cells": [
  {
   "cell_type": "markdown",
   "metadata": {},
   "source": [
    "### Note\n",
    "* Instructions have been included for each segment. You do not have to follow them exactly, but they are included to help you think through the steps."
   ]
  },
  {
   "cell_type": "code",
   "execution_count": 14,
   "metadata": {},
   "outputs": [],
   "source": [
    "# Dependencies and Setup\n",
    "import pandas as pd\n",
    "\n",
    "# File to Load (Remember to Change These)\n",
    "file_to_load = \"Resources/purchase_data.csv\"\n",
    "\n",
    "# Read Purchasing File and store into Pandas data frame\n",
    "purchase_data = pd.read_csv(file_to_load)"
   ]
  },
  {
   "cell_type": "markdown",
   "metadata": {},
   "source": [
    "First step is to get the columns thar are available to work with"
   ]
  },
  {
   "cell_type": "code",
   "execution_count": 15,
   "metadata": {},
   "outputs": [
    {
     "data": {
      "text/plain": [
       "Index(['Purchase ID', 'SN', 'Age', 'Gender', 'Item ID', 'Item Name', 'Price'], dtype='object')"
      ]
     },
     "execution_count": 15,
     "metadata": {},
     "output_type": "execute_result"
    }
   ],
   "source": [
    "#print columns to have names\n",
    "purchase_data.columns"
   ]
  },
  {
   "cell_type": "markdown",
   "metadata": {},
   "source": [
    "## Player Count"
   ]
  },
  {
   "cell_type": "markdown",
   "metadata": {},
   "source": [
    "* Display the total number of players\n"
   ]
  },
  {
   "cell_type": "code",
   "execution_count": 16,
   "metadata": {},
   "outputs": [
    {
     "name": "stdout",
     "output_type": "stream",
     "text": [
      "There are 576 unique players in the purchases database\n"
     ]
    }
   ],
   "source": [
    "#Get the number of unique purchases\n",
    "total_Players =len(purchase_data['SN'].unique())\n",
    "\n",
    "#creates a dataframe of the unique players to make subsequenst analysis easier\n",
    "unique_players= purchase_data.drop_duplicates('SN')\n",
    "\n",
    "#print the number of players in a readable format\n",
    "print(f'There are {total_Players} unique players in the purchases database')"
   ]
  },
  {
   "cell_type": "markdown",
   "metadata": {},
   "source": [
    "## Purchasing Analysis (Total)"
   ]
  },
  {
   "cell_type": "markdown",
   "metadata": {},
   "source": [
    "* Run basic calculations to obtain number of unique items, average price, etc.\n",
    "\n",
    "\n",
    "* Create a summary data frame to hold the results\n",
    "\n",
    "\n",
    "* Optional: give the displayed data cleaner formatting\n",
    "\n",
    "\n",
    "* Display the summary data frame\n"
   ]
  },
  {
   "cell_type": "code",
   "execution_count": 17,
   "metadata": {
    "scrolled": true
   },
   "outputs": [
    {
     "name": "stdout",
     "output_type": "stream",
     "text": [
      "   Unique Items Average Price  Number of Purchases Total Revenue\n",
      "0           179         $3.05                  780     $2,379.77\n"
     ]
    }
   ],
   "source": [
    "\n",
    "#create a blank dictionary to put key value pairs in where key is \n",
    "#variable described and value is value of variable\n",
    "summary_dict = {}\n",
    "\n",
    "#get the number of unique items via item id number\n",
    "summary_dict['Unique Items'] = [len(purchase_data['Item ID'].unique())]\n",
    "# get the average price as mean of purchased prices \n",
    "summary_dict['Average Price'] = [purchase_data['Price'].mean()]\n",
    "#get the number of purchases by counting number of purchase IDs which \n",
    "#is the unique identification number for the purchase\n",
    "summary_dict['Number of Purchases'] = [purchase_data['Purchase ID'].count()]\n",
    "#Get total revenue from item purchases by summing the price of the item from\n",
    "# every transation\n",
    "summary_dict['Total Revenue'] = [purchase_data['Price'].sum()]\n",
    "\n",
    "#put data into dataframe format\n",
    "summary_df = pd.DataFrame(summary_dict)\n",
    "\n",
    "#format the monetary values to show as dollar values\n",
    "summary_df['Average Price'] = summary_df['Average Price'].map('${:,.2f}'.format)\n",
    "summary_df['Total Revenue'] = summary_df['Total Revenue'].map('${:,.2f}'.format)\n",
    "\n",
    "#display data\n",
    "print(summary_df)"
   ]
  },
  {
   "cell_type": "markdown",
   "metadata": {},
   "source": [
    "## Gender Demographics"
   ]
  },
  {
   "cell_type": "markdown",
   "metadata": {},
   "source": [
    "* Percentage and Count of Male Players\n",
    "\n",
    "\n",
    "* Percentage and Count of Female Players\n",
    "\n",
    "\n",
    "* Percentage and Count of Other / Non-Disclosed\n",
    "\n",
    "\n"
   ]
  },
  {
   "cell_type": "code",
   "execution_count": 18,
   "metadata": {},
   "outputs": [
    {
     "name": "stdout",
     "output_type": "stream",
     "text": [
      "                       Number of Players Percentage of Players\n",
      "Male                                 484                84.03%\n",
      "Female                                81                14.06%\n",
      "Other / Non-Disclosed                 11                 1.91%\n"
     ]
    }
   ],
   "source": [
    "#use the early made dataframe with only unique players to get the number of players from each gender\n",
    "gender_df = unique_players['Gender'].value_counts()\n",
    "#cast value count series as dataframe to make it easier to work with\n",
    "gender_df = pd.DataFrame(gender_df)\n",
    "\n",
    "#change the name of the count of players to accurately reflect the data\n",
    "gender_df = gender_df.rename(columns={'Gender':'Number of Players'},errors='raise')\n",
    "\n",
    "#Get a percentage of the gender count for each gender option\n",
    "gender_df['Percentage of Players'] = gender_df['Number of Players']/gender_df['Number of Players'].sum()*100\n",
    "\n",
    "#format the percent of players as a percent\n",
    "gender_df['Percentage of Players'] = gender_df['Percentage of Players'].map('{:,.2f}%'.format)\n",
    "\n",
    "#display data\n",
    "print(gender_df)"
   ]
  },
  {
   "cell_type": "markdown",
   "metadata": {},
   "source": [
    "\n",
    "## Purchasing Analysis (Gender)"
   ]
  },
  {
   "cell_type": "markdown",
   "metadata": {},
   "source": [
    "* Run basic calculations to obtain purchase count, avg. purchase price, avg. purchase total per person etc. by gender\n",
    "\n",
    "\n",
    "\n",
    "\n",
    "* Create a summary data frame to hold the results\n",
    "\n",
    "\n",
    "* Optional: give the displayed data cleaner formatting\n",
    "\n",
    "\n",
    "* Display the summary data frame"
   ]
  },
  {
   "cell_type": "code",
   "execution_count": 19,
   "metadata": {},
   "outputs": [
    {
     "name": "stdout",
     "output_type": "stream",
     "text": [
      "                       Purchase Count Average Purchase Price  \\\n",
      "Gender                                                         \n",
      "Female                            113                  $3.20   \n",
      "Male                              652                  $3.02   \n",
      "Other / Non-Disclosed              15                  $3.35   \n",
      "\n",
      "                      Total Purchase Value Average Total per Person  \n",
      "Gender                                                               \n",
      "Female                             $361.94                    $4.47  \n",
      "Male                             $1,967.64                    $4.07  \n",
      "Other / Non-Disclosed               $50.19                    $4.56  \n"
     ]
    }
   ],
   "source": [
    "#make a groupby of the data by gender\n",
    "Gender_group = purchase_data.groupby('Gender')\n",
    "\n",
    "#cast groupby as a dataframe of transaction counts split by gender\n",
    "#and rename the column of transactions apropriately\n",
    "Gender_Analysis = pd.DataFrame(Gender_group['Purchase ID'].count()).rename(columns={'Purchase ID':\"Purchase Count\"})\n",
    "\n",
    "#get summary statistics mean and sum of transactions by gender\n",
    "Gender_Analysis['Average Purchase Price'] = Gender_group['Price'].mean()\n",
    "Gender_Analysis['Total Purchase Value'] = Gender_group['Price'].sum()\n",
    "\n",
    "#get the average spent per person by using sum of transactions devided by number of unique players aquired doing demographic calculations\n",
    "Gender_Analysis['Average Total per Person'] = Gender_group['Price'].sum()/gender_df['Number of Players']\n",
    "\n",
    "#create a list of columns that should be formatted as dollar values and loop through them to \n",
    "#format the columns apropriately \n",
    "moneyColumns= ['Average Purchase Price','Total Purchase Value','Average Total per Person']\n",
    "for series in moneyColumns:\n",
    "    Gender_Analysis[series] = Gender_Analysis[series].map('${:,.2f}'.format)\n",
    "\n",
    "#display data\n",
    "print(Gender_Analysis)"
   ]
  },
  {
   "cell_type": "markdown",
   "metadata": {},
   "source": [
    "## Age Demographics"
   ]
  },
  {
   "cell_type": "markdown",
   "metadata": {},
   "source": [
    "* Establish bins for ages\n",
    "\n",
    "\n",
    "* Categorize the existing players using the age bins. Hint: use pd.cut()\n",
    "\n",
    "\n",
    "* Calculate the numbers and percentages by age group\n",
    "\n",
    "\n",
    "* Create a summary data frame to hold the results\n",
    "\n",
    "\n",
    "* Optional: round the percentage column to two decimal points\n",
    "\n",
    "\n",
    "* Display Age Demographics Table\n"
   ]
  },
  {
   "cell_type": "code",
   "execution_count": 20,
   "metadata": {},
   "outputs": [
    {
     "name": "stdout",
     "output_type": "stream",
     "text": [
      "       Number of Players Percentage of Players\n",
      "Age                                           \n",
      "<10                   17                 2.95%\n",
      "10-14                 22                 3.82%\n",
      "15-19                107                18.58%\n",
      "20-24                258                44.79%\n",
      "25-29                 77                13.37%\n",
      "30-34                 52                 9.03%\n",
      "35-39                 31                 5.38%\n",
      "40+                   12                 2.08%\n"
     ]
    }
   ],
   "source": [
    "\n",
    "#create 8 bins by creating 9 values, 0 and 8 equally spaced numbers in increments of 5 starting from 9\n",
    "bins = [0]\n",
    "for x in range(7):\n",
    "    x = x*5+9\n",
    "    bins.append(x)\n",
    "\n",
    "#create labels fo how it will bin data according to pd.cut\n",
    "binlabels = [f'{x+1}-{x+5}' for x in bins]\n",
    "\n",
    "#remove the first and last labels then replace them with more readable numbers it more accurate\n",
    "del binlabels[0]\n",
    "del binlabels[-1]\n",
    "binlabels.insert(0,f'<{bins[1]+1}')\n",
    "binlabels.append(f'{bins[-1]+1}+')\n",
    "\n",
    "#add an arbitrarily large bin to end to catch players beyond highest age group\n",
    "bins.append(150)\n",
    "\n",
    "\n",
    "#Create a dataframe which displays the number of players in each age range \n",
    "age_demographics = pd.DataFrame(pd.cut(unique_players['Age'],bins,labels=binlabels).value_counts())\n",
    "\n",
    "#raname and sort the dataframe to be easier to read and name the data apropriately\n",
    "age_demographics = age_demographics.rename(columns={'Age':'Number of Players'})\n",
    "age_demographics = age_demographics.sort_index()\n",
    "\n",
    "#relabel the index as the boxes they were splitinto\n",
    "age_demographics['Age'] = binlabels\n",
    "age_demographics= age_demographics.set_index('Age')\n",
    "\n",
    "#get the percantage of each age group as a part of the full number of users\n",
    "age_demographics['Percentage of Players'] = age_demographics['Number of Players']/age_demographics['Number of Players'].sum()*100\n",
    "#reformat the percentage to display as a percentage\n",
    "age_demographics['Percentage of Players'] = age_demographics['Percentage of Players'].map('{:,.2f}%'.format)\n",
    "\n",
    "#display data\n",
    "print(age_demographics)\n",
    "\n",
    "\n"
   ]
  },
  {
   "cell_type": "markdown",
   "metadata": {},
   "source": [
    "## Purchasing Analysis (Age)"
   ]
  },
  {
   "cell_type": "markdown",
   "metadata": {},
   "source": [
    "* Bin the purchase_data data frame by age\n",
    "\n",
    "\n",
    "* Run basic calculations to obtain purchase count, avg. purchase price, avg. purchase total per person etc. in the table below\n",
    "\n",
    "\n",
    "* Create a summary data frame to hold the results\n",
    "\n",
    "\n",
    "* Optional: give the displayed data cleaner formatting\n",
    "\n",
    "\n",
    "* Display the summary data frame"
   ]
  },
  {
   "cell_type": "code",
   "execution_count": 21,
   "metadata": {},
   "outputs": [
    {
     "data": {
      "text/html": [
       "<div>\n",
       "<style scoped>\n",
       "    .dataframe tbody tr th:only-of-type {\n",
       "        vertical-align: middle;\n",
       "    }\n",
       "\n",
       "    .dataframe tbody tr th {\n",
       "        vertical-align: top;\n",
       "    }\n",
       "\n",
       "    .dataframe thead th {\n",
       "        text-align: right;\n",
       "    }\n",
       "</style>\n",
       "<table border=\"1\" class=\"dataframe\">\n",
       "  <thead>\n",
       "    <tr style=\"text-align: right;\">\n",
       "      <th></th>\n",
       "      <th>Number of Players</th>\n",
       "      <th>Average Purchase Price</th>\n",
       "      <th>Total Purchase Value</th>\n",
       "      <th>Average Total per Person</th>\n",
       "    </tr>\n",
       "    <tr>\n",
       "      <th>Age</th>\n",
       "      <th></th>\n",
       "      <th></th>\n",
       "      <th></th>\n",
       "      <th></th>\n",
       "    </tr>\n",
       "  </thead>\n",
       "  <tbody>\n",
       "    <tr>\n",
       "      <th>&lt;10</th>\n",
       "      <td>23</td>\n",
       "      <td>$3.35</td>\n",
       "      <td>$77.13</td>\n",
       "      <td>$4.54</td>\n",
       "    </tr>\n",
       "    <tr>\n",
       "      <th>10-14</th>\n",
       "      <td>28</td>\n",
       "      <td>$2.96</td>\n",
       "      <td>$82.78</td>\n",
       "      <td>$3.76</td>\n",
       "    </tr>\n",
       "    <tr>\n",
       "      <th>15-19</th>\n",
       "      <td>136</td>\n",
       "      <td>$3.04</td>\n",
       "      <td>$412.89</td>\n",
       "      <td>$3.86</td>\n",
       "    </tr>\n",
       "    <tr>\n",
       "      <th>20-24</th>\n",
       "      <td>365</td>\n",
       "      <td>$3.05</td>\n",
       "      <td>$1,114.06</td>\n",
       "      <td>$4.32</td>\n",
       "    </tr>\n",
       "    <tr>\n",
       "      <th>25-29</th>\n",
       "      <td>101</td>\n",
       "      <td>$2.90</td>\n",
       "      <td>$293.00</td>\n",
       "      <td>$3.81</td>\n",
       "    </tr>\n",
       "    <tr>\n",
       "      <th>30-34</th>\n",
       "      <td>73</td>\n",
       "      <td>$2.93</td>\n",
       "      <td>$214.00</td>\n",
       "      <td>$4.12</td>\n",
       "    </tr>\n",
       "    <tr>\n",
       "      <th>35-39</th>\n",
       "      <td>41</td>\n",
       "      <td>$3.60</td>\n",
       "      <td>$147.67</td>\n",
       "      <td>$4.76</td>\n",
       "    </tr>\n",
       "    <tr>\n",
       "      <th>40+</th>\n",
       "      <td>13</td>\n",
       "      <td>$2.94</td>\n",
       "      <td>$38.24</td>\n",
       "      <td>$3.19</td>\n",
       "    </tr>\n",
       "  </tbody>\n",
       "</table>\n",
       "</div>"
      ],
      "text/plain": [
       "       Number of Players Average Purchase Price Total Purchase Value  \\\n",
       "Age                                                                    \n",
       "<10                   23                  $3.35               $77.13   \n",
       "10-14                 28                  $2.96               $82.78   \n",
       "15-19                136                  $3.04              $412.89   \n",
       "20-24                365                  $3.05            $1,114.06   \n",
       "25-29                101                  $2.90              $293.00   \n",
       "30-34                 73                  $2.93              $214.00   \n",
       "35-39                 41                  $3.60              $147.67   \n",
       "40+                   13                  $2.94               $38.24   \n",
       "\n",
       "      Average Total per Person  \n",
       "Age                             \n",
       "<10                      $4.54  \n",
       "10-14                    $3.76  \n",
       "15-19                    $3.86  \n",
       "20-24                    $4.32  \n",
       "25-29                    $3.81  \n",
       "30-34                    $4.12  \n",
       "35-39                    $4.76  \n",
       "40+                      $3.19  "
      ]
     },
     "execution_count": 21,
     "metadata": {},
     "output_type": "execute_result"
    }
   ],
   "source": [
    "\n",
    "#create an empty dataframe to put data into\n",
    "age_analysis = pd.DataFrame()\n",
    "\n",
    "#cut full transaction data into already established bins and group by ages\n",
    "purchase_data['age_group']  =  pd.cut(purchase_data['Age'],bins,labels=binlabels)\n",
    "ageGroup= purchase_data.groupby('age_group')\n",
    "\n",
    "#put counts of data into the empty dataframe\n",
    "age_analysis['Number of Players'] = purchase_data['age_group'].value_counts()\n",
    "\n",
    "#sort and rename to accurately reflect data\n",
    "age_analysis = age_analysis.sort_index()\n",
    "age_analysis = age_analysis.rename_axis('Age')\n",
    "\n",
    "#get summary statistics and average transaction value per player as per method described for gender\n",
    "age_analysis['Average Purchase Price'] = ageGroup['Price'].mean()\n",
    "age_analysis['Total Purchase Value'] = ageGroup['Price'].sum()\n",
    "age_analysis['Average Total per Person'] = ageGroup['Price'].sum()/age_demographics['Number of Players']\n",
    "\n",
    "#reformat monetary columns as per list, loop method described for gender\n",
    "moneyColumns= ['Average Purchase Price','Total Purchase Value','Average Total per Person']\n",
    "for series in moneyColumns:\n",
    "    age_analysis[series] = age_analysis[series].map('${:,.2f}'.format)\n",
    "\n",
    "#Display data    \n",
    "age_analysis"
   ]
  },
  {
   "cell_type": "markdown",
   "metadata": {},
   "source": [
    "## Top Spenders"
   ]
  },
  {
   "cell_type": "markdown",
   "metadata": {},
   "source": [
    "* Run basic calculations to obtain the results in the table below\n",
    "\n",
    "\n",
    "* Create a summary data frame to hold the results\n",
    "\n",
    "\n",
    "* Sort the total purchase value column in descending order\n",
    "\n",
    "\n",
    "* Optional: give the displayed data cleaner formatting\n",
    "\n",
    "\n",
    "* Display a preview of the summary data frame\n",
    "\n"
   ]
  },
  {
   "cell_type": "code",
   "execution_count": 22,
   "metadata": {},
   "outputs": [
    {
     "data": {
      "text/html": [
       "<div>\n",
       "<style scoped>\n",
       "    .dataframe tbody tr th:only-of-type {\n",
       "        vertical-align: middle;\n",
       "    }\n",
       "\n",
       "    .dataframe tbody tr th {\n",
       "        vertical-align: top;\n",
       "    }\n",
       "\n",
       "    .dataframe thead th {\n",
       "        text-align: right;\n",
       "    }\n",
       "</style>\n",
       "<table border=\"1\" class=\"dataframe\">\n",
       "  <thead>\n",
       "    <tr style=\"text-align: right;\">\n",
       "      <th></th>\n",
       "      <th>Purchase Count</th>\n",
       "      <th>Average Purchase Price</th>\n",
       "      <th>Total Purchase Value</th>\n",
       "    </tr>\n",
       "    <tr>\n",
       "      <th>SN</th>\n",
       "      <th></th>\n",
       "      <th></th>\n",
       "      <th></th>\n",
       "    </tr>\n",
       "  </thead>\n",
       "  <tbody>\n",
       "    <tr>\n",
       "      <th>Lisosia93</th>\n",
       "      <td>5</td>\n",
       "      <td>$3.79</td>\n",
       "      <td>$18.96</td>\n",
       "    </tr>\n",
       "    <tr>\n",
       "      <th>Idastidru52</th>\n",
       "      <td>4</td>\n",
       "      <td>$3.86</td>\n",
       "      <td>$15.45</td>\n",
       "    </tr>\n",
       "    <tr>\n",
       "      <th>Chamjask73</th>\n",
       "      <td>3</td>\n",
       "      <td>$4.61</td>\n",
       "      <td>$13.83</td>\n",
       "    </tr>\n",
       "    <tr>\n",
       "      <th>Iral74</th>\n",
       "      <td>4</td>\n",
       "      <td>$3.41</td>\n",
       "      <td>$13.62</td>\n",
       "    </tr>\n",
       "    <tr>\n",
       "      <th>Iskadarya95</th>\n",
       "      <td>3</td>\n",
       "      <td>$4.37</td>\n",
       "      <td>$13.10</td>\n",
       "    </tr>\n",
       "  </tbody>\n",
       "</table>\n",
       "</div>"
      ],
      "text/plain": [
       "             Purchase Count Average Purchase Price Total Purchase Value\n",
       "SN                                                                     \n",
       "Lisosia93                 5                  $3.79               $18.96\n",
       "Idastidru52               4                  $3.86               $15.45\n",
       "Chamjask73                3                  $4.61               $13.83\n",
       "Iral74                    4                  $3.41               $13.62\n",
       "Iskadarya95               3                  $4.37               $13.10"
      ]
     },
     "execution_count": 22,
     "metadata": {},
     "output_type": "execute_result"
    }
   ],
   "source": [
    "\n",
    "#create groupby using User name of players\n",
    "userStats = purchase_data.groupby('SN')\n",
    "\n",
    "#Create dataframe using counts of purchases for each player\n",
    "userStats_df = pd.DataFrame(purchase_data['SN'].value_counts())\n",
    "\n",
    "#rename axises to accuretly reflect data\n",
    "userStats_df = userStats_df.rename({'SN':'Purchase Count'}, axis='columns')\n",
    "userStats_df = userStats_df.rename_axis('SN')\n",
    "\n",
    "#get summary statustics of transactions per player\n",
    "userStats_df['Average Purchase Price'] = userStats['Price'].mean()\n",
    "userStats_df['Total Purchase Value'] = userStats['Price'].sum()\n",
    "\n",
    "#reformat data to go by highest spenders and reformat monetary columns to display as dollars\n",
    "userStats_df = userStats_df.sort_values('Total Purchase Value', ascending=False)\n",
    "moneyColumns= ['Average Purchase Price','Total Purchase Value']\n",
    "for series in moneyColumns:\n",
    "    userStats_df[series] = userStats_df[series].map('${:,.2f}'.format)\n",
    "\n",
    "#display first 5 users in list\n",
    "userStats_df.head(5)"
   ]
  },
  {
   "cell_type": "markdown",
   "metadata": {},
   "source": [
    "## Most Popular Items"
   ]
  },
  {
   "cell_type": "markdown",
   "metadata": {},
   "source": [
    "* Retrieve the Item ID, Item Name, and Item Price columns\n",
    "\n",
    "\n",
    "* Group by Item ID and Item Name. Perform calculations to obtain purchase count, average item price, and total purchase value\n",
    "\n",
    "\n",
    "* Create a summary data frame to hold the results\n",
    "\n",
    "\n",
    "* Sort the purchase count column in descending order\n",
    "\n",
    "\n",
    "* Optional: give the displayed data cleaner formatting\n",
    "\n",
    "\n",
    "* Display a preview of the summary data frame\n",
    "\n"
   ]
  },
  {
   "cell_type": "code",
   "execution_count": 57,
   "metadata": {},
   "outputs": [
    {
     "data": {
      "text/html": [
       "<div>\n",
       "<style scoped>\n",
       "    .dataframe tbody tr th:only-of-type {\n",
       "        vertical-align: middle;\n",
       "    }\n",
       "\n",
       "    .dataframe tbody tr th {\n",
       "        vertical-align: top;\n",
       "    }\n",
       "\n",
       "    .dataframe thead th {\n",
       "        text-align: right;\n",
       "    }\n",
       "</style>\n",
       "<table border=\"1\" class=\"dataframe\">\n",
       "  <thead>\n",
       "    <tr style=\"text-align: right;\">\n",
       "      <th></th>\n",
       "      <th></th>\n",
       "      <th>Purchase Count</th>\n",
       "      <th>Average Purchase Price</th>\n",
       "      <th>Total Purchase Value</th>\n",
       "    </tr>\n",
       "    <tr>\n",
       "      <th>Item ID</th>\n",
       "      <th>Item Name</th>\n",
       "      <th></th>\n",
       "      <th></th>\n",
       "      <th></th>\n",
       "    </tr>\n",
       "  </thead>\n",
       "  <tbody>\n",
       "    <tr>\n",
       "      <th>92</th>\n",
       "      <th>Final Critic</th>\n",
       "      <td>13</td>\n",
       "      <td>$4.61</td>\n",
       "      <td>$59.99</td>\n",
       "    </tr>\n",
       "    <tr>\n",
       "      <th>178</th>\n",
       "      <th>Oathbreaker, Last Hope of the Breaking Storm</th>\n",
       "      <td>12</td>\n",
       "      <td>$4.23</td>\n",
       "      <td>$50.76</td>\n",
       "    </tr>\n",
       "    <tr>\n",
       "      <th>145</th>\n",
       "      <th>Fiery Glass Crusader</th>\n",
       "      <td>9</td>\n",
       "      <td>$4.58</td>\n",
       "      <td>$41.22</td>\n",
       "    </tr>\n",
       "    <tr>\n",
       "      <th>132</th>\n",
       "      <th>Persuasion</th>\n",
       "      <td>9</td>\n",
       "      <td>$3.22</td>\n",
       "      <td>$28.99</td>\n",
       "    </tr>\n",
       "    <tr>\n",
       "      <th>108</th>\n",
       "      <th>Extraction, Quickblade Of Trembling Hands</th>\n",
       "      <td>9</td>\n",
       "      <td>$3.53</td>\n",
       "      <td>$31.77</td>\n",
       "    </tr>\n",
       "  </tbody>\n",
       "</table>\n",
       "</div>"
      ],
      "text/plain": [
       "                                                      Purchase Count  \\\n",
       "Item ID Item Name                                                      \n",
       "92      Final Critic                                              13   \n",
       "178     Oathbreaker, Last Hope of the Breaking Storm              12   \n",
       "145     Fiery Glass Crusader                                       9   \n",
       "132     Persuasion                                                 9   \n",
       "108     Extraction, Quickblade Of Trembling Hands                  9   \n",
       "\n",
       "                                                     Average Purchase Price  \\\n",
       "Item ID Item Name                                                             \n",
       "92      Final Critic                                                  $4.61   \n",
       "178     Oathbreaker, Last Hope of the Breaking Storm                  $4.23   \n",
       "145     Fiery Glass Crusader                                          $4.58   \n",
       "132     Persuasion                                                    $3.22   \n",
       "108     Extraction, Quickblade Of Trembling Hands                     $3.53   \n",
       "\n",
       "                                                     Total Purchase Value  \n",
       "Item ID Item Name                                                          \n",
       "92      Final Critic                                               $59.99  \n",
       "178     Oathbreaker, Last Hope of the Breaking Storm               $50.76  \n",
       "145     Fiery Glass Crusader                                       $41.22  \n",
       "132     Persuasion                                                 $28.99  \n",
       "108     Extraction, Quickblade Of Trembling Hands                  $31.77  "
      ]
     },
     "execution_count": 57,
     "metadata": {},
     "output_type": "execute_result"
    }
   ],
   "source": [
    "\n",
    "#Create groupby using item id then item name\n",
    "itemStats = purchase_data.groupby(['Item ID','Item Name'])\n",
    "\n",
    "#create data frame by count of number of purchases of each item\n",
    "itemStats_df = pd.DataFrame(purchase_data[['Item ID','Item Name']].value_counts())\n",
    "\n",
    "#rename data to accurately reflect data created\n",
    "itemStats_df = itemStats_df.rename({0:'Purchase Count'}, axis='columns')\n",
    "\n",
    "#Get summary statistics of the items (sum of purchases and average purchase price)\n",
    "itemStats_df['Average Purchase Price'] = itemStats['Price'].mean()\n",
    "itemStats_df['Total Purchase Value'] = itemStats['Price'].sum()\n",
    "\n",
    "#sort data by number of times item was purchased\n",
    "itemStats_df = itemStats_df.sort_values('Purchase Count', ascending=False)\n",
    "\n",
    "#reformat monetary columns using list, loop method used earlier\n",
    "moneyColumns= ['Average Purchase Price','Total Purchase Value']\n",
    "for series in moneyColumns:\n",
    "     itemStats_df[series] = itemStats_df[series].map('${:,.2f}'.format)\n",
    "\n",
    "#display info\n",
    "itemStats_df.head(5)"
   ]
  },
  {
   "cell_type": "markdown",
   "metadata": {},
   "source": [
    "## Most Profitable Items"
   ]
  },
  {
   "cell_type": "markdown",
   "metadata": {},
   "source": [
    "* Sort the above table by total purchase value in descending order\n",
    "\n",
    "\n",
    "* Optional: give the displayed data cleaner formatting\n",
    "\n",
    "\n",
    "* Display a preview of the data frame\n",
    "\n"
   ]
  },
  {
   "cell_type": "code",
   "execution_count": 58,
   "metadata": {
    "scrolled": true
   },
   "outputs": [
    {
     "data": {
      "text/html": [
       "<div>\n",
       "<style scoped>\n",
       "    .dataframe tbody tr th:only-of-type {\n",
       "        vertical-align: middle;\n",
       "    }\n",
       "\n",
       "    .dataframe tbody tr th {\n",
       "        vertical-align: top;\n",
       "    }\n",
       "\n",
       "    .dataframe thead th {\n",
       "        text-align: right;\n",
       "    }\n",
       "</style>\n",
       "<table border=\"1\" class=\"dataframe\">\n",
       "  <thead>\n",
       "    <tr style=\"text-align: right;\">\n",
       "      <th></th>\n",
       "      <th></th>\n",
       "      <th>Purchase Count</th>\n",
       "      <th>Average Purchase Price</th>\n",
       "      <th>Total Purchase Value</th>\n",
       "    </tr>\n",
       "    <tr>\n",
       "      <th>Item ID</th>\n",
       "      <th>Item Name</th>\n",
       "      <th></th>\n",
       "      <th></th>\n",
       "      <th></th>\n",
       "    </tr>\n",
       "  </thead>\n",
       "  <tbody>\n",
       "    <tr>\n",
       "      <th>92</th>\n",
       "      <th>Final Critic</th>\n",
       "      <td>13</td>\n",
       "      <td>$4.61</td>\n",
       "      <td>$59.99</td>\n",
       "    </tr>\n",
       "    <tr>\n",
       "      <th>178</th>\n",
       "      <th>Oathbreaker, Last Hope of the Breaking Storm</th>\n",
       "      <td>12</td>\n",
       "      <td>$4.23</td>\n",
       "      <td>$50.76</td>\n",
       "    </tr>\n",
       "    <tr>\n",
       "      <th>82</th>\n",
       "      <th>Nirvana</th>\n",
       "      <td>9</td>\n",
       "      <td>$4.9</td>\n",
       "      <td>$44.1</td>\n",
       "    </tr>\n",
       "    <tr>\n",
       "      <th>145</th>\n",
       "      <th>Fiery Glass Crusader</th>\n",
       "      <td>9</td>\n",
       "      <td>$4.58</td>\n",
       "      <td>$41.22</td>\n",
       "    </tr>\n",
       "    <tr>\n",
       "      <th>103</th>\n",
       "      <th>Singed Scalpel</th>\n",
       "      <td>8</td>\n",
       "      <td>$4.35</td>\n",
       "      <td>$34.8</td>\n",
       "    </tr>\n",
       "  </tbody>\n",
       "</table>\n",
       "</div>"
      ],
      "text/plain": [
       "                                                      Purchase Count  \\\n",
       "Item ID Item Name                                                      \n",
       "92      Final Critic                                              13   \n",
       "178     Oathbreaker, Last Hope of the Breaking Storm              12   \n",
       "82      Nirvana                                                    9   \n",
       "145     Fiery Glass Crusader                                       9   \n",
       "103     Singed Scalpel                                             8   \n",
       "\n",
       "                                                     Average Purchase Price  \\\n",
       "Item ID Item Name                                                             \n",
       "92      Final Critic                                                  $4.61   \n",
       "178     Oathbreaker, Last Hope of the Breaking Storm                  $4.23   \n",
       "82      Nirvana                                                        $4.9   \n",
       "145     Fiery Glass Crusader                                          $4.58   \n",
       "103     Singed Scalpel                                                $4.35   \n",
       "\n",
       "                                                     Total Purchase Value  \n",
       "Item ID Item Name                                                          \n",
       "92      Final Critic                                               $59.99  \n",
       "178     Oathbreaker, Last Hope of the Breaking Storm               $50.76  \n",
       "82      Nirvana                                                     $44.1  \n",
       "145     Fiery Glass Crusader                                       $41.22  \n",
       "103     Singed Scalpel                                              $34.8  "
      ]
     },
     "execution_count": 58,
     "metadata": {},
     "output_type": "execute_result"
    }
   ],
   "source": [
    "\n",
    "#sort the item statistics data frame by money spend on item overall\n",
    "#to do this the $ must be removed before sorting then added back\n",
    "\n",
    "\n",
    "#removes $ and casts as float\n",
    "moneyColumns= ['Average Purchase Price','Total Purchase Value']\n",
    "for series in moneyColumns:\n",
    "     itemStats_df[series] = itemStats_df[series].apply(lambda x: float(x.replace('$','')))\n",
    "\n",
    "#sorts data by purchase value\n",
    "itemStats_df = itemStats_df.sort_values('Total Purchase Value', ascending=False)\n",
    "\n",
    "#re adds the $\n",
    "for series in moneyColumns:\n",
    "     itemStats_df[series] = itemStats_df[series].apply(lambda x: '$'+ str(x))\n",
    "\n",
    "#display info\n",
    "itemStats_df.head()"
   ]
  },
  {
   "cell_type": "code",
   "execution_count": null,
   "metadata": {},
   "outputs": [],
   "source": []
  },
  {
   "cell_type": "code",
   "execution_count": null,
   "metadata": {},
   "outputs": [],
   "source": []
  }
 ],
 "metadata": {
  "anaconda-cloud": {},
  "kernel_info": {
   "name": "python3"
  },
  "kernelspec": {
   "display_name": "Python 3",
   "language": "python",
   "name": "python3"
  },
  "language_info": {
   "codemirror_mode": {
    "name": "ipython",
    "version": 3
   },
   "file_extension": ".py",
   "mimetype": "text/x-python",
   "name": "python",
   "nbconvert_exporter": "python",
   "pygments_lexer": "ipython3",
   "version": "3.7.11"
  },
  "latex_envs": {
   "LaTeX_envs_menu_present": true,
   "autoclose": false,
   "autocomplete": true,
   "bibliofile": "biblio.bib",
   "cite_by": "apalike",
   "current_citInitial": 1,
   "eqLabelWithNumbers": true,
   "eqNumInitial": 1,
   "hotkeys": {
    "equation": "Ctrl-E",
    "itemize": "Ctrl-I"
   },
   "labels_anchors": false,
   "latex_user_defs": false,
   "report_style_numbering": false,
   "user_envs_cfg": false
  },
  "nteract": {
   "version": "0.2.0"
  }
 },
 "nbformat": 4,
 "nbformat_minor": 2
}
